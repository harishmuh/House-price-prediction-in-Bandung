{
 "cells": [
  {
   "cell_type": "markdown",
   "metadata": {
    "editable": true,
    "slideshow": {
     "slide_type": ""
    },
    "tags": []
   },
   "source": [
    "# Library"
   ]
  },
  {
   "cell_type": "code",
   "execution_count": 1,
   "metadata": {},
   "outputs": [],
   "source": [
    "import numpy as np \n",
    "import pandas as pd \n",
    "import matplotlib.pyplot as plt \n",
    "from matplotlib.colors import ListedColormap, LinearSegmentedColormap\n",
    "import seaborn as sns\n",
    "import warnings\n",
    "warnings.filterwarnings(\"ignore\")"
   ]
  },
  {
   "cell_type": "markdown",
   "metadata": {},
   "source": [
    "# Data Check"
   ]
  },
  {
   "cell_type": "code",
   "execution_count": 2,
   "metadata": {},
   "outputs": [],
   "source": [
    "data_housing = pd.read_csv('dataset_house_price_bandung.csv')\n"
   ]
  },
  {
   "cell_type": "code",
   "execution_count": 3,
   "metadata": {},
   "outputs": [
    {
     "data": {
      "text/plain": [
       "Title            object\n",
       "Title_URL        object\n",
       "Keywords         object\n",
       "Address          object\n",
       "Description      object\n",
       "Price            object\n",
       "Info            float64\n",
       "Info1            object\n",
       "Info2            object\n",
       "Info3            object\n",
       "Info4            object\n",
       "Info5            object\n",
       "Description6     object\n",
       "dtype: object"
      ]
     },
     "execution_count": 3,
     "metadata": {},
     "output_type": "execute_result"
    }
   ],
   "source": [
    "data_housing.dtypes"
   ]
  },
  {
   "cell_type": "code",
   "execution_count": 4,
   "metadata": {},
   "outputs": [],
   "source": [
    "data_housing['Price'] = data_housing['Price'].str.replace(r'[^\\d]', '', regex=True).astype(float)"
   ]
  },
  {
   "cell_type": "code",
   "execution_count": 5,
   "metadata": {},
   "outputs": [],
   "source": [
    "for kolom in data_housing.columns :\n",
    "    if data_housing[kolom].dtype == 'object':  \n",
    "        data_housing[kolom] = data_housing[kolom].str.lower().str.replace(r\"\\n\", \"\").str.strip()"
   ]
  },
  {
   "cell_type": "markdown",
   "metadata": {},
   "source": [
    "# Data Cleaning"
   ]
  },
  {
   "cell_type": "code",
   "execution_count": 6,
   "metadata": {},
   "outputs": [],
   "source": [
    "data_housing.drop(columns=['Title_URL','Keywords','Description','Info1','Info3','Info5','Description6'], inplace=True)"
   ]
  },
  {
   "cell_type": "code",
   "execution_count": 7,
   "metadata": {},
   "outputs": [],
   "source": [
    "data_housing.rename(columns={'Info':'KT','Info2':'LB','Info4':'LT'},inplace=True)"
   ]
  },
  {
   "cell_type": "code",
   "execution_count": 8,
   "metadata": {},
   "outputs": [
    {
     "data": {
      "text/plain": [
       "Title       0\n",
       "Address     9\n",
       "Price      15\n",
       "KT         10\n",
       "LB         10\n",
       "LT         13\n",
       "dtype: int64"
      ]
     },
     "metadata": {},
     "output_type": "display_data"
    },
    {
     "data": {
      "text/plain": [
       "29"
      ]
     },
     "metadata": {},
     "output_type": "display_data"
    }
   ],
   "source": [
    "display(data_housing.isna().sum())\n",
    "display(data_housing.duplicated().sum())"
   ]
  },
  {
   "cell_type": "code",
   "execution_count": 9,
   "metadata": {},
   "outputs": [],
   "source": [
    "data_housing.dropna(inplace=True)"
   ]
  },
  {
   "cell_type": "code",
   "execution_count": 10,
   "metadata": {},
   "outputs": [
    {
     "data": {
      "text/plain": [
       "0              soreang\n",
       "1       cileunyi kulon\n",
       "2             antapani\n",
       "3          gegerkalong\n",
       "5              cikutra\n",
       "             ...      \n",
       "2661              dago\n",
       "2662          turangga\n",
       "2663          ciwastra\n",
       "2664              dago\n",
       "2665          antapani\n",
       "Name: Address, Length: 2648, dtype: object"
      ]
     },
     "execution_count": 10,
     "metadata": {},
     "output_type": "execute_result"
    }
   ],
   "source": [
    "data_housing['Address'] =data_housing['Address'].str.replace('bandung','',case=False)\n",
    "data_housing['Address'] =data_housing['Address'].str.replace(r'[^\\w\\s]','',regex=True).str.strip()\n",
    "data_housing['Address'] = data_housing ['Address'].str.replace(r',,',',',regex=True).str.strip()\n",
    "data_housing['Address']"
   ]
  },
  {
   "cell_type": "code",
   "execution_count": 11,
   "metadata": {},
   "outputs": [
    {
     "data": {
      "text/plain": [
       "Title      0\n",
       "Address    0\n",
       "Price      0\n",
       "KT         0\n",
       "LB         0\n",
       "LT         0\n",
       "dtype: int64"
      ]
     },
     "metadata": {},
     "output_type": "display_data"
    },
    {
     "data": {
      "text/plain": [
       "25"
      ]
     },
     "metadata": {},
     "output_type": "display_data"
    }
   ],
   "source": [
    "display(data_housing.isna().sum())\n",
    "display(data_housing.duplicated().sum())"
   ]
  },
  {
   "cell_type": "code",
   "execution_count": 12,
   "metadata": {},
   "outputs": [
    {
     "data": {
      "text/html": [
       "<div>\n",
       "<style scoped>\n",
       "    .dataframe tbody tr th:only-of-type {\n",
       "        vertical-align: middle;\n",
       "    }\n",
       "\n",
       "    .dataframe tbody tr th {\n",
       "        vertical-align: top;\n",
       "    }\n",
       "\n",
       "    .dataframe thead th {\n",
       "        text-align: right;\n",
       "    }\n",
       "</style>\n",
       "<table border=\"1\" class=\"dataframe\">\n",
       "  <thead>\n",
       "    <tr style=\"text-align: right;\">\n",
       "      <th></th>\n",
       "      <th>Nama Kolom</th>\n",
       "      <th>Jumlah Unik</th>\n",
       "      <th>Unik Value</th>\n",
       "    </tr>\n",
       "  </thead>\n",
       "  <tbody>\n",
       "    <tr>\n",
       "      <th>0</th>\n",
       "      <td>Title</td>\n",
       "      <td>2580</td>\n",
       "      <td>[\", , rumah baru skandinavian dekat ke jalan utama padalarang, .rumah bebas banjir dan asri di taman kopo indah ii, bandung, 1 unit diskon 35 juta rumah di arcamanik antapani design scandinavian, 100 jutaan    rumah di cinunuk cileunyi dkt cibiru bandung timur, 2 lantai, rumah baru, fully furnished, grand sharon, 2 lt promo rumah kota bandung timur jatihandap antapani cluster mahaka, 2 menit ke trans mart buah batu di rumah askara brahmapuri podomoro park band, 2 unit rumah baru minimalis scandinavian arcamanik kota bandung⁣, 25 menit ke gedung sate rumah di arcamanik dkt antapani dan cicadas, 36/60. cicilan 1,4 juta. arjasari banjaran, 5 menit ke pintu toll buah batu,rumah brahmapuri podomoro park bandung | a 6.01., 5 menit ke universitas telkom, rumah askara brahmapuri podomoro park bandung, agung podomoro park bandung type minimalis 1 lantai, aman dan nyaman rumah elegant minimalis atap car port cileunyi bandung, aman dan nyaman | biaya bangun rumah minimalis 2 kamar bumi pasirwangi, aman dan nyaman | rumah minimalis 2 lantai bumi pasir wangi cileunyi, aman dan nyaman|rumah tumbuh di bumi pasir wangi cileunyi bandung, aman | denah rumah minimalis 2 kamar ukuran 5x7 bumi pasir wangi bdg, aman | rumah minimalis sederhana bumi pasir wangi cileunyi bandung, aman|perumahan cluster di bumi pasir wangi cileunyi bandung, anapuri type darmaraja podomoro bandung, angsuran 2 jutaan rumah strategis di cigugur dekat kota bandung, asri dan indah | rumah minimalis modern bumi pasir wangi cileunyi bdg, asri dan indah| hunian milenial perumahan bumi pasir wangi bandung, asri dan indah|perumahan strategisdi bumi pasir wangi cileunyi bandung, asri rumah nyaman dan aman di cileunyi dekat pintu tol cileunyi, asri | desain rumah minimalis elegan bumi pasir wangi cileunyi bandung, asri | rumah minimalis 2 kamar type 45 bumi pasir wangi bandung, asri|rumah minimalisdi bumi pasir wangi cileunyi bandung, b.u dijual rumah nyaman 2,5 lantai siap huni di sarijadi kota bdg, bagus luas bangunan belanda sayap gedung sate, bagus recommend   kbp, bali residence rumah apik dan nyaman, bandung city view, beautiful house with nice view at citra green dago, beli rumah bonus fasilitas, beli rumah, dapatkan kesejukan dan kemewahan di lingkungan strategis,, beli sekarang rumah murah nyaman sejuk di batujajar dkt cimareme, best invest rumah semi villa mewah private pool, best location rumah baru minimalis modern, best view rumah semi villa dikawasan pegunungan, bmi rumah syariah tanpa riba 2lantai , siap huni type 60-72, booking podomoro sekarang dapatkan undian hyiundai iqoniq, brand new home\\nrumah baru di kawasan exclusive setra duta, bu cepat rumah model minimalis cipaku, buah batu regency , jual rumah minimalis siap huni, budget 1man sudah dapat rumah mewah 2 lantai di kota bandung, butuh cepat mau pindah keluar kota., butuh uang jual rumah bumi pasirwangi cileunyi bandung, cari jual rumah strategis di cileunyi bandung timur, casa victoria setra duta, cek sekarang rumah semi furnish tinggal bawa koper aja, cicilan 1 juta an. rumah subsidi. arjasari bandung selatan, cilengkrang bandung takayama mansion, cinunuk perumahan dekat tol cileunyi, cipaku  bandung, cisangkuy - diponegoro - dago - bandung kota, u/ usaha/ cafe, best loc, cisaranten arcamanik, citra green dago, ciwastra park 2, cluster antapani - bandung kota, siap huni, murah, lingkungan bagus, cluster antapani bandung kota, siap huni, jalan lebar pisan, cluster baru di bumi panyawangan real estate cluster garcinia 2 lantai, cluster brahmapuri at podomoro park bandung, cluster dayana summarecon bandung, cluster garcinia 1 lantai di bumi panyawangan real estate, cluster graha panyileukan rumah baru dekat polda jabar kota bandung, cluster manis harga minimalis akses besar di cinunuk, cluster mewah gaya korea sayap dago jl utama cigadung, cluster murah minimalis modern di bandung, cluster oryza ciwastra park, cluster pasir jati, di cijambe, ujungberung, bandung., cluster patragriya at podomoro park bandung, cluster pramartha asri jatihandap residence kota bandung mahaka land, cluster premium genova summarecon bandung, cluster premium living dekat campus telkom, cluster sadyagriya at podomoro park bandung, cluster wangsagriya at podomoro park bandung, cluster yang asri islami, cocok sekali | model rumah minimalis terbaru bumi pasir wangi cileunyi, cocok sekali|  hunian strategis perumahan bumi pasir wangi bandung, cocok sekali|rumah one gate sistemdi bumi pasir wangi cileunyi bandung, cocok sekali|  hunian strategis perumahan bumi pasir wangi bandung, cozy rumah luas harga menarik sayap veteran  tengah kota bandung, d green sindanglaya, dealkan segera, hunian nyaman diarea super tenang, setra duta, bandung, dekat sman 1 cisarua bandung barat 600 jtan 3 kamar tidur shm, desain elegan, ruang fungsional: jual rumah minimalis di bandung, desain scandinavia di bumi panyawangan real estate, di jual :  rumah sumbersari  bandung jawa barat, di jual cepat komplek dadali bandung kota jarang ada, di jual cepat rumah baru 2lantai sangat murah di dekat cicaheum, di jual cepat rumah baru full renov 2lt di babakansari kiaracondong, di jual cepat rumah di bawah harga pasar di suryalaya bandung, di jual cepat rumah mewah selangkah tol full furnished dekat kantor p, di jual cepat rumah minimalis siap huni dalam cluster antapani, di jual cepat rumah super murah di batununggal mulia, di jual cepat rumah villa di royal view residence ciwaruga gegerkalong, di jual cepat termurah rumah strategis sayap jl jakarta bandung, ...]</td>\n",
       "    </tr>\n",
       "    <tr>\n",
       "      <th>1</th>\n",
       "      <td>Address</td>\n",
       "      <td>138</td>\n",
       "      <td>[, andir, antapani, arcamanik, arjasari, astana anyar, babakan ciparay, baleendah, banjaran, batujajar, batununggal, bojongloa kaler, bojongloa kidul, bojongmalaka, bojongsari, bojongsoang, buahbatu, buahbatu margacinta, cangkuang, ciateul, cibaduyut, cibeunying, cibeunying kaler, cibeunying kidul, cibiru, cibiru hilir, cibiru wetan, cicaheum, cicalengka, cicendo, cidadap, cigadung, cigondewah, cihampelas, cihapit, cijagra, cijerah, cikalongwetan, cikutra, cilengkrang, cileunyi, cileunyi kulon, cileunyi wetan, cimaung, cimekar, cimenyan, cinambo, cingcin, cinunuk, cipaganti, ciparay, cipatat, cisaranten kulon, cisaranten wetan, cisarua, citarum, ciumbuleuit, ciwastra, ciwidey, coblong, dago, dayeuhkolot, garuda, gatot subroto, gedebage, gegerkalong, gempolsari, gumuruh, hegarmanah, isola, jamika, jatihandap, jatinangor, karasak, katapang, kebon jeruk, kebonwaru, kiaracondong, kidul, kopo, kulon, ledeng, lembang, lengkong, lingkar selatan, malakasari, maleber, mandalajati, margaasih, margahayu, margahayu utara, mekarwangi, nagreg, ngamprah, padalarang, padasuka, pajajaran, pameungpeuk, pangalengan, panyileukan, ...]</td>\n",
       "    </tr>\n",
       "    <tr>\n",
       "      <th>2</th>\n",
       "      <td>Price</td>\n",
       "      <td>675</td>\n",
       "      <td>[110000000.0, 134500000.0, 135000000.0, 136000000.0, 147500000.0, 148000000.0, 150000000.0, 150500000.0, 150800000.0, 155000000.0, 158000000.0, 160000000.0, 162000000.0, 164999999.0, 165000000.0, 170000000.0, 175000000.0, 175121000.0, 180000000.0, 185000000.0, 185888000.0, 190000000.0, 195000000.0, 199000000.0, 200000000.0, 200000020.0, 205000000.0, 210000000.0, 218000000.0, 220000000.0, 225000000.0, 230000000.0, 235000000.0, 236830000.0, 240000000.0, 240300000.0, 245000000.0, 248000000.0, 249000000.0, 250000000.0, 250888000.0, 255000000.0, 260000000.0, 261000000.0, 268200000.0, 268990000.0, 270000000.0, 275000000.0, 278000000.0, 279000000.0, 280000000.0, 285000000.0, 286000000.0, 287000000.0, 288000000.0, 289000000.0, 290000000.0, 294000000.0, 295000000.0, 300000000.0, 303000000.0, 305000000.0, 310000000.0, 310012253.0, 320000000.0, 325000000.0, 330000000.0, 339500000.0, 340000000.0, 345000000.0, 346000000.0, 346200000.0, 348000000.0, 348400000.0, 350000000.0, 355000000.0, 360000000.0, 365000000.0, 370000000.0, 374500000.0, 375000000.0, 378000000.0, 378199000.0, 378200000.0, 378650000.0, 378799000.0, 378800000.0, 378950000.0, 379000000.0, 380000000.0, 381000000.0, 385000000.0, 390000000.0, 390300000.0, 390500000.0, 391000000.0, 397000000.0, 397791000.0, 398000000.0, 399900000.0, ...]</td>\n",
       "    </tr>\n",
       "    <tr>\n",
       "      <th>3</th>\n",
       "      <td>KT</td>\n",
       "      <td>30</td>\n",
       "      <td>[1.0, 2.0, 3.0, 4.0, 5.0, 6.0, 7.0, 8.0, 9.0, 10.0, 11.0, 12.0, 13.0, 14.0, 15.0, 16.0, 17.0, 18.0, 19.0, 20.0, 21.0, 22.0, 23.0, 24.0, 28.0, 30.0, 45.0, 50.0, 100.0, 430.0]</td>\n",
       "    </tr>\n",
       "    <tr>\n",
       "      <th>4</th>\n",
       "      <td>LB</td>\n",
       "      <td>329</td>\n",
       "      <td>[1 m², 100 m², 1000 m², 10060 m², 102 m², 103 m², 104 m², 1044 m², 105 m², 106 m², 107 m², 108 m², 110 m², 111 m², 112 m², 113 m², 114 m², 115 m², 116 m², 117 m², 118 m², 119 m², 12 m², 120 m², 1200 m², 1202 m², 121 m², 122 m², 123 m², 124 m², 125 m², 1250 m², 126 m², 127 m², 128 m², 129 m², 130 m², 131 m², 133 m², 135 m², 136 m², 137 m², 140 m², 1400 m², 142 m², 144 m², 145 m², 146 m², 147 m², 149 m², 150 m², 1500 m², 151 m², 153 m², 154 m², 155 m², 156 m², 158 m², 160 m², 161 m², 162 m², 164 m², 165 m², 166 m², 167 m², 168 m², 169 m², 170 m², 1700 m², 171 m², 172 m², 173 m², 174 m², 175 m², 176 m², 177 m², 178 m², 179 m², 180 m², 1800 m², 181 m², 182 m², 185 m², 186 m², 188 m², 190 m², 192 m², 193 m², 194 m², 195 m², 196 m², 197 m², 198 m², 199 m², 2 m², 200 m², 2000 m², 202 m², 203 m², 2036 m², ...]</td>\n",
       "    </tr>\n",
       "    <tr>\n",
       "      <th>5</th>\n",
       "      <td>LT</td>\n",
       "      <td>504</td>\n",
       "      <td>[1 m², 100 m², 1000 m², 100078 m², 1007 m², 10078 m², 101 m², 1015 m², 102 m², 10200 m², 103 m², 104 m², 1044 m², 1048 m², 105 m², 106 m², 107 m², 1073 m², 1079 m², 108 m², 109 m², 1095 m², 110 m², 1100 m², 111 m², 1115 m², 112 m², 113 m², 114 m², 115 m², 116 m², 1160 m², 117 m², 118 m², 1185 m², 119 m², 1194 m², 120 m², 1200 m², 121 m², 1210 m², 1217 m², 122 m², 123 m², 124 m², 1246 m², 125 m², 126 m², 1262 m², 127 m², 128 m², 1290 m², 130 m², 1300 m², 131 m², 132 m², 1320 m², 133 m², 134 m², 135 m², 136 m², 1367 m², 137 m², 138 m², 139 m², 140 m², 1405 m², 141 m², 142 m², 1424 m², 144 m², 145 m², 146 m², 1464 m², 147 m², 148 m², 1485 m², 149 m², 150 m², 15000 m², 151 m², 1510 m², 152 m², 153 m², 1530 m², 154 m², 1540 m², 155 m², 156 m², 157 m², 158 m², 159 m², 160 m², 1600 m², 161 m², 162 m², 163 m², 164 m², 165 m², 166 m², ...]</td>\n",
       "    </tr>\n",
       "  </tbody>\n",
       "</table>\n",
       "</div>"
      ],
      "text/plain": [
       "  Nama Kolom  Jumlah Unik  \\\n",
       "0      Title         2580   \n",
       "1    Address          138   \n",
       "2      Price          675   \n",
       "3         KT           30   \n",
       "4         LB          329   \n",
       "5         LT          504   \n",
       "\n",
       "                                                                                                                                                                                                                                                                                                                                                                                                                                                                                                                                                                                                                                                                                                                                                                                                                                                                                                                                                                                                                                                                                                                                                                                                                                                                                                                                                                                                                                                                                                                                                                                                                                                                                                                                                                                                                                                                                                                                                                                                                                                                                                                                                                                                                                                                                                                                                                                                                                                                                                                                                                                                                                                                                                                                                                                                                                                                                                                                                                                                                                                                                                                                                                                                                                                                                                                                                                                                                                                                                                                                                                                                                                                                                                                                                                                                                                                                                                                                                                                                                                                                                                                                                                                                                                                                                                                                                                                                                                                                                                                                                                                                                                                                                                                                                                                                                                                                                                                                                                                                                                                                                                                                                                                                                                                                                                                                                                                                                                                                                                                                                                                                                                                                                                                                              Unik Value  \n",
       "0  [\", , rumah baru skandinavian dekat ke jalan utama padalarang, .rumah bebas banjir dan asri di taman kopo indah ii, bandung, 1 unit diskon 35 juta rumah di arcamanik antapani design scandinavian, 100 jutaan    rumah di cinunuk cileunyi dkt cibiru bandung timur, 2 lantai, rumah baru, fully furnished, grand sharon, 2 lt promo rumah kota bandung timur jatihandap antapani cluster mahaka, 2 menit ke trans mart buah batu di rumah askara brahmapuri podomoro park band, 2 unit rumah baru minimalis scandinavian arcamanik kota bandung⁣, 25 menit ke gedung sate rumah di arcamanik dkt antapani dan cicadas, 36/60. cicilan 1,4 juta. arjasari banjaran, 5 menit ke pintu toll buah batu,rumah brahmapuri podomoro park bandung | a 6.01., 5 menit ke universitas telkom, rumah askara brahmapuri podomoro park bandung, agung podomoro park bandung type minimalis 1 lantai, aman dan nyaman rumah elegant minimalis atap car port cileunyi bandung, aman dan nyaman | biaya bangun rumah minimalis 2 kamar bumi pasirwangi, aman dan nyaman | rumah minimalis 2 lantai bumi pasir wangi cileunyi, aman dan nyaman|rumah tumbuh di bumi pasir wangi cileunyi bandung, aman | denah rumah minimalis 2 kamar ukuran 5x7 bumi pasir wangi bdg, aman | rumah minimalis sederhana bumi pasir wangi cileunyi bandung, aman|perumahan cluster di bumi pasir wangi cileunyi bandung, anapuri type darmaraja podomoro bandung, angsuran 2 jutaan rumah strategis di cigugur dekat kota bandung, asri dan indah | rumah minimalis modern bumi pasir wangi cileunyi bdg, asri dan indah| hunian milenial perumahan bumi pasir wangi bandung, asri dan indah|perumahan strategisdi bumi pasir wangi cileunyi bandung, asri rumah nyaman dan aman di cileunyi dekat pintu tol cileunyi, asri | desain rumah minimalis elegan bumi pasir wangi cileunyi bandung, asri | rumah minimalis 2 kamar type 45 bumi pasir wangi bandung, asri|rumah minimalisdi bumi pasir wangi cileunyi bandung, b.u dijual rumah nyaman 2,5 lantai siap huni di sarijadi kota bdg, bagus luas bangunan belanda sayap gedung sate, bagus recommend   kbp, bali residence rumah apik dan nyaman, bandung city view, beautiful house with nice view at citra green dago, beli rumah bonus fasilitas, beli rumah, dapatkan kesejukan dan kemewahan di lingkungan strategis,, beli sekarang rumah murah nyaman sejuk di batujajar dkt cimareme, best invest rumah semi villa mewah private pool, best location rumah baru minimalis modern, best view rumah semi villa dikawasan pegunungan, bmi rumah syariah tanpa riba 2lantai , siap huni type 60-72, booking podomoro sekarang dapatkan undian hyiundai iqoniq, brand new home\\nrumah baru di kawasan exclusive setra duta, bu cepat rumah model minimalis cipaku, buah batu regency , jual rumah minimalis siap huni, budget 1man sudah dapat rumah mewah 2 lantai di kota bandung, butuh cepat mau pindah keluar kota., butuh uang jual rumah bumi pasirwangi cileunyi bandung, cari jual rumah strategis di cileunyi bandung timur, casa victoria setra duta, cek sekarang rumah semi furnish tinggal bawa koper aja, cicilan 1 juta an. rumah subsidi. arjasari bandung selatan, cilengkrang bandung takayama mansion, cinunuk perumahan dekat tol cileunyi, cipaku  bandung, cisangkuy - diponegoro - dago - bandung kota, u/ usaha/ cafe, best loc, cisaranten arcamanik, citra green dago, ciwastra park 2, cluster antapani - bandung kota, siap huni, murah, lingkungan bagus, cluster antapani bandung kota, siap huni, jalan lebar pisan, cluster baru di bumi panyawangan real estate cluster garcinia 2 lantai, cluster brahmapuri at podomoro park bandung, cluster dayana summarecon bandung, cluster garcinia 1 lantai di bumi panyawangan real estate, cluster graha panyileukan rumah baru dekat polda jabar kota bandung, cluster manis harga minimalis akses besar di cinunuk, cluster mewah gaya korea sayap dago jl utama cigadung, cluster murah minimalis modern di bandung, cluster oryza ciwastra park, cluster pasir jati, di cijambe, ujungberung, bandung., cluster patragriya at podomoro park bandung, cluster pramartha asri jatihandap residence kota bandung mahaka land, cluster premium genova summarecon bandung, cluster premium living dekat campus telkom, cluster sadyagriya at podomoro park bandung, cluster wangsagriya at podomoro park bandung, cluster yang asri islami, cocok sekali | model rumah minimalis terbaru bumi pasir wangi cileunyi, cocok sekali|  hunian strategis perumahan bumi pasir wangi bandung, cocok sekali|rumah one gate sistemdi bumi pasir wangi cileunyi bandung, cocok sekali|  hunian strategis perumahan bumi pasir wangi bandung, cozy rumah luas harga menarik sayap veteran  tengah kota bandung, d green sindanglaya, dealkan segera, hunian nyaman diarea super tenang, setra duta, bandung, dekat sman 1 cisarua bandung barat 600 jtan 3 kamar tidur shm, desain elegan, ruang fungsional: jual rumah minimalis di bandung, desain scandinavia di bumi panyawangan real estate, di jual :  rumah sumbersari  bandung jawa barat, di jual cepat komplek dadali bandung kota jarang ada, di jual cepat rumah baru 2lantai sangat murah di dekat cicaheum, di jual cepat rumah baru full renov 2lt di babakansari kiaracondong, di jual cepat rumah di bawah harga pasar di suryalaya bandung, di jual cepat rumah mewah selangkah tol full furnished dekat kantor p, di jual cepat rumah minimalis siap huni dalam cluster antapani, di jual cepat rumah super murah di batununggal mulia, di jual cepat rumah villa di royal view residence ciwaruga gegerkalong, di jual cepat termurah rumah strategis sayap jl jakarta bandung, ...]  \n",
       "1                                                                                                                                                                                                                                                                                                                                                                                                                                                                                                                                                                                                                                                                                                                                                                                                                                                                                                                                                                                                                                                                                                                                                                                                                                                                                                                                                                                                                                                                                                                                                                                                                                                                                                                                                                                                                                                                                                                                                                                                                                                                                                                                                                                                                                                                                                                                                                                                                                                                                                                                                                                                                                                                                                                                                                                                                                                                                                                                                                                                                                                                                                                                                                                                                                                                                                                                                                                                                                                                                                                                                                                                                                                                                                                                                                                                                                                                                                                                                                                                                                                                                                                                                                                                                                                                                                                                                                                                                                                                                                                                                                           [, andir, antapani, arcamanik, arjasari, astana anyar, babakan ciparay, baleendah, banjaran, batujajar, batununggal, bojongloa kaler, bojongloa kidul, bojongmalaka, bojongsari, bojongsoang, buahbatu, buahbatu margacinta, cangkuang, ciateul, cibaduyut, cibeunying, cibeunying kaler, cibeunying kidul, cibiru, cibiru hilir, cibiru wetan, cicaheum, cicalengka, cicendo, cidadap, cigadung, cigondewah, cihampelas, cihapit, cijagra, cijerah, cikalongwetan, cikutra, cilengkrang, cileunyi, cileunyi kulon, cileunyi wetan, cimaung, cimekar, cimenyan, cinambo, cingcin, cinunuk, cipaganti, ciparay, cipatat, cisaranten kulon, cisaranten wetan, cisarua, citarum, ciumbuleuit, ciwastra, ciwidey, coblong, dago, dayeuhkolot, garuda, gatot subroto, gedebage, gegerkalong, gempolsari, gumuruh, hegarmanah, isola, jamika, jatihandap, jatinangor, karasak, katapang, kebon jeruk, kebonwaru, kiaracondong, kidul, kopo, kulon, ledeng, lembang, lengkong, lingkar selatan, malakasari, maleber, mandalajati, margaasih, margahayu, margahayu utara, mekarwangi, nagreg, ngamprah, padalarang, padasuka, pajajaran, pameungpeuk, pangalengan, panyileukan, ...]  \n",
       "2                                                                                                                                                                                                                                                                                                                                                                                                                                                                                                                                                                                                                                                                                                                                                                                                                                                                                                                                                                                                                                                                                                                                                                                                                                                                                                                                                                                                                                                                                                                                                                                                                                                                                                                                                                                                                                                                                                                                                                                                                                                                                                                                                                                                                                                                                                                                                                                                                                                                                                                                                                                                                                                                                                                                                                                                                                                                                                                                                                                                                                                                                                                                                                                                                                                                                                                                                                                                                                                                                                                                                                                                                                                                                                                                                                                                                                                                                                                                                                                                                                                                                                                                                                                                                                                                                                                                                                                              [110000000.0, 134500000.0, 135000000.0, 136000000.0, 147500000.0, 148000000.0, 150000000.0, 150500000.0, 150800000.0, 155000000.0, 158000000.0, 160000000.0, 162000000.0, 164999999.0, 165000000.0, 170000000.0, 175000000.0, 175121000.0, 180000000.0, 185000000.0, 185888000.0, 190000000.0, 195000000.0, 199000000.0, 200000000.0, 200000020.0, 205000000.0, 210000000.0, 218000000.0, 220000000.0, 225000000.0, 230000000.0, 235000000.0, 236830000.0, 240000000.0, 240300000.0, 245000000.0, 248000000.0, 249000000.0, 250000000.0, 250888000.0, 255000000.0, 260000000.0, 261000000.0, 268200000.0, 268990000.0, 270000000.0, 275000000.0, 278000000.0, 279000000.0, 280000000.0, 285000000.0, 286000000.0, 287000000.0, 288000000.0, 289000000.0, 290000000.0, 294000000.0, 295000000.0, 300000000.0, 303000000.0, 305000000.0, 310000000.0, 310012253.0, 320000000.0, 325000000.0, 330000000.0, 339500000.0, 340000000.0, 345000000.0, 346000000.0, 346200000.0, 348000000.0, 348400000.0, 350000000.0, 355000000.0, 360000000.0, 365000000.0, 370000000.0, 374500000.0, 375000000.0, 378000000.0, 378199000.0, 378200000.0, 378650000.0, 378799000.0, 378800000.0, 378950000.0, 379000000.0, 380000000.0, 381000000.0, 385000000.0, 390000000.0, 390300000.0, 390500000.0, 391000000.0, 397000000.0, 397791000.0, 398000000.0, 399900000.0, ...]  \n",
       "3                                                                                                                                                                                                                                                                                                                                                                                                                                                                                                                                                                                                                                                                                                                                                                                                                                                                                                                                                                                                                                                                                                                                                                                                                                                                                                                                                                                                                                                                                                                                                                                                                                                                                                                                                                                                                                                                                                                                                                                                                                                                                                                                                                                                                                                                                                                                                                                                                                                                                                                                                                                                                                                                                                                                                                                                                                                                                                                                                                                                                                                                                                                                                                                                                                                                                                                                                                                                                                                                                                                                                                                                                                                                                                                                                                                                                                                                                                                                                                                                                                                                                                                                                                                                                                                                                                                                                                                                                                                                                                                                                                                                                                                                                                                                                                                                                                                                                                                                                                                                                                                                                                                                                                                                                                                                                                                                                                                                                                                                                                                                                                          [1.0, 2.0, 3.0, 4.0, 5.0, 6.0, 7.0, 8.0, 9.0, 10.0, 11.0, 12.0, 13.0, 14.0, 15.0, 16.0, 17.0, 18.0, 19.0, 20.0, 21.0, 22.0, 23.0, 24.0, 28.0, 30.0, 45.0, 50.0, 100.0, 430.0]  \n",
       "4                                                                                                                                                                                                                                                                                                                                                                                                                                                                                                                                                                                                                                                                                                                                                                                                                                                                                                                                                                                                                                                                                                                                                                                                                                                                                                                                                                                                                                                                                                                                                                                                                                                                                                                                                                                                                                                                                                                                                                                                                                                                                                                                                                                                                                                                                                                                                                                                                                                                                                                                                                                                                                                                                                                                                                                                                                                                                                                                                                                                                                                                                                                                                                                                                                                                                                                                                                                                                                                                                                                                                                                                                                                                                                                                                                                                                                                                                                                                                                                                                                                                                                                                                                                                                                                                                                                                                                                                                                                                                                                                                                                                                                                                                                                                                                                                                                                                                                          [1 m², 100 m², 1000 m², 10060 m², 102 m², 103 m², 104 m², 1044 m², 105 m², 106 m², 107 m², 108 m², 110 m², 111 m², 112 m², 113 m², 114 m², 115 m², 116 m², 117 m², 118 m², 119 m², 12 m², 120 m², 1200 m², 1202 m², 121 m², 122 m², 123 m², 124 m², 125 m², 1250 m², 126 m², 127 m², 128 m², 129 m², 130 m², 131 m², 133 m², 135 m², 136 m², 137 m², 140 m², 1400 m², 142 m², 144 m², 145 m², 146 m², 147 m², 149 m², 150 m², 1500 m², 151 m², 153 m², 154 m², 155 m², 156 m², 158 m², 160 m², 161 m², 162 m², 164 m², 165 m², 166 m², 167 m², 168 m², 169 m², 170 m², 1700 m², 171 m², 172 m², 173 m², 174 m², 175 m², 176 m², 177 m², 178 m², 179 m², 180 m², 1800 m², 181 m², 182 m², 185 m², 186 m², 188 m², 190 m², 192 m², 193 m², 194 m², 195 m², 196 m², 197 m², 198 m², 199 m², 2 m², 200 m², 2000 m², 202 m², 203 m², 2036 m², ...]  \n",
       "5                                                                                                                                                                                                                                                                                                                                                                                                                                                                                                                                                                                                                                                                                                                                                                                                                                                                                                                                                                                                                                                                                                                                                                                                                                                                                                                                                                                                                                                                                                                                                                                                                                                                                                                                                                                                                                                                                                                                                                                                                                                                                                                                                                                                                                                                                                                                                                                                                                                                                                                                                                                                                                                                                                                                                                                                                                                                                                                                                                                                                                                                                                                                                                                                                                                                                                                                                                                                                                                                                                                                                                                                                                                                                                                                                                                                                                                                                                                                                                                                                                                                                                                                                                                                                                                                                                                                                                                                                                                                                                                                                                                                                                                                                                                                                                                                                                                                             [1 m², 100 m², 1000 m², 100078 m², 1007 m², 10078 m², 101 m², 1015 m², 102 m², 10200 m², 103 m², 104 m², 1044 m², 1048 m², 105 m², 106 m², 107 m², 1073 m², 1079 m², 108 m², 109 m², 1095 m², 110 m², 1100 m², 111 m², 1115 m², 112 m², 113 m², 114 m², 115 m², 116 m², 1160 m², 117 m², 118 m², 1185 m², 119 m², 1194 m², 120 m², 1200 m², 121 m², 1210 m², 1217 m², 122 m², 123 m², 124 m², 1246 m², 125 m², 126 m², 1262 m², 127 m², 128 m², 1290 m², 130 m², 1300 m², 131 m², 132 m², 1320 m², 133 m², 134 m², 135 m², 136 m², 1367 m², 137 m², 138 m², 139 m², 140 m², 1405 m², 141 m², 142 m², 1424 m², 144 m², 145 m², 146 m², 1464 m², 147 m², 148 m², 1485 m², 149 m², 150 m², 15000 m², 151 m², 1510 m², 152 m², 153 m², 1530 m², 154 m², 1540 m², 155 m², 156 m², 157 m², 158 m², 159 m², 160 m², 1600 m², 161 m², 162 m², 163 m², 164 m², 165 m², 166 m², ...]  "
      ]
     },
     "execution_count": 12,
     "metadata": {},
     "output_type": "execute_result"
    }
   ],
   "source": [
    "pd.set_option('display.max_colwidth',None)\n",
    "\n",
    "# Data unik disetiap kolom\n",
    "list_unik = []\n",
    "for col in data_housing.columns :\n",
    "    list_unik.append([col, data_housing[col].nunique(), data_housing.sort_values(col)[col].unique()])\n",
    "\n",
    "Datadesc = pd.DataFrame(columns=['Nama Kolom','Jumlah Unik', 'Unik Value'],\n",
    "                        data=list_unik)\n",
    "Datadesc"
   ]
  },
  {
   "cell_type": "code",
   "execution_count": 13,
   "metadata": {},
   "outputs": [],
   "source": [
    "data_housing['LB'] = [int(area.replace(\" m²\", \"\")) for area in data_housing['LB']]\n"
   ]
  },
  {
   "cell_type": "code",
   "execution_count": 14,
   "metadata": {},
   "outputs": [],
   "source": [
    "data_housing['LT'] = [int(area.replace(\" m²\", \"\")) for area in data_housing['LT']]"
   ]
  },
  {
   "cell_type": "markdown",
   "metadata": {},
   "source": [
    "Nama Lama | Nama Baru|\n",
    "---|---|\n",
    "buahbatu margacinta | buahbatu |\n",
    "setiabudi| ledeng|\n",
    "ciwastra|mekarjaya|\n",
    "riau | bandung wetan|\n",
    "gatot subroto | malabar|\n",
    "pasir kaliki | *mengubah dataset jd punya spasi*|\n",
    "cigondewah |bandung kulon|\n",
    "warung muncang |bandung kulon|\n",
    "kebon jeruk | andir\n",
    "ujung berung | ujungberung\n",
    "surapati | cihaurgeulis\n",
    "pasir jati| pasirjati"
   ]
  },
  {
   "cell_type": "code",
   "execution_count": 15,
   "metadata": {},
   "outputs": [],
   "source": [
    "data_housing['Address'] = data_housing['Address'].replace({'buahbatu margacinta':'buahbatu', 'setiabudi':'ledeng', 'ciwastra':'mekarjaya', 'riau':'bandung wetan', 'gatot subroto':'malabar', 'cigondewah':'bandung kulon', 'warung muncang':'bandung kulon', 'kebon jeruk': 'andir', 'ujung berung':'ujungberung', 'surapati':'cihaurgeulis','pasir jati':'pasirjati'})"
   ]
  },
  {
   "cell_type": "code",
   "execution_count": 16,
   "metadata": {},
   "outputs": [],
   "source": [
    "data_housing['index'] = data_housing['Address'].apply(lambda x:'1' if x in ['andir','astana anyar','antapani','arcamanik','babakan ciparay','bandung kidul','bandung kulon','bandung wetan','batununggal','bojongloa kaler','bojongloa kidul','buahbatu','cibeunying kaler','cibeunying kidul','cibiru','cicendo','cidadap','cinambo','coblong','gedebage','kiaracondong','lengkong','mandalajati','rancasari','panyileukan','regol','sumur bandung','sukajadi','sukasari','ujungberung','campaka','ciroyom','dunguscariang','garuda','kebonjeruk','maleber','cibadak','karanganyar','karasak','nyengseret','panjunan','pelindunghewan','antapani kidul','antapani kulon','antapani tengah','antapani wetan','cisaranten bina harapan','cisaranten endah','cisaranten kulon','sukamiskin','babakan','babakanciparay','cirangrang','margahayu utara','margasuka','sukahaji','batununggal','kujangsari','mengger','wates','caringin','cibuntu','cigondewah kaler','cigondewah kidul','cigondewah rahayu','cijerah','gempolsari','warungmuncang','cihapit','citarum','tamansari','binong','cibangkong','gumuruh','kacapiring','kebongedang','kebonwaru','maleer','samoja','babakan asih','babakan tarogong','jamika','kopo','suka asih','cibaduyut','cibaduyut kidul','cibaduyut wetan','kebon lega','mekarwangi','situsaeur','cijawura','jatisari','margasari','sekejati','cigadung','cihaurgeulis','neglasari','sukaluyu','cicadas','cikutra','padasuka','pasirlayung','sukamaju','sukapada','cipadung','cisurupan','palasari','pasirbiru','arjuna','husen sastranegara','pajajaran','pamoyanan','pasir kaliki','sukaraja','ciumbuleuit','hegarmanah','ledeng','babakan penghulu','cisaranten wetan','pakemitan','sukamulya','cipaganti','dago','lebakgede','lebaksiliwangi','sadangserang','sekeloa','cimincrang','cisaranten kidul','rancabolang','rancanumpang','babakansari','babakansurabaya','cicaheum','kebonkangkung','kebunjayanti','sukapura','burangrang','cijagra','cikawao','lingkar selatan','malabar','paledang','turangga','jatihandap','karangpamulang','pasir impun','sindangjaya','cipamokolan','darwati','manjahlega','mekar jaya','cipadung kidul','cipadung kulon','cipadung wetan','mekarmulya','ancol','balonggede','ciateul','cigereleng','ciseureuh','pasirluyu','pungkur','babakanciamis','braga','kebonpisang','merdeka','cipedes','pasteur','sukabungah','sukagalih','sukawarna','gegerkalong','isola','sarijadi','sukarasa','cigending','pasanggrahan','pasirendah','pasirjati','pasirwangi'] else '0')"
   ]
  },
  {
   "cell_type": "code",
   "execution_count": 17,
   "metadata": {},
   "outputs": [
    {
     "data": {
      "text/html": [
       "<div>\n",
       "<style scoped>\n",
       "    .dataframe tbody tr th:only-of-type {\n",
       "        vertical-align: middle;\n",
       "    }\n",
       "\n",
       "    .dataframe tbody tr th {\n",
       "        vertical-align: top;\n",
       "    }\n",
       "\n",
       "    .dataframe thead th {\n",
       "        text-align: right;\n",
       "    }\n",
       "</style>\n",
       "<table border=\"1\" class=\"dataframe\">\n",
       "  <thead>\n",
       "    <tr style=\"text-align: right;\">\n",
       "      <th></th>\n",
       "      <th>Jumlah</th>\n",
       "      <th>Persentase</th>\n",
       "    </tr>\n",
       "    <tr>\n",
       "      <th>index</th>\n",
       "      <th></th>\n",
       "      <th></th>\n",
       "    </tr>\n",
       "  </thead>\n",
       "  <tbody>\n",
       "    <tr>\n",
       "      <th>1</th>\n",
       "      <td>1642</td>\n",
       "      <td>0.620091</td>\n",
       "    </tr>\n",
       "    <tr>\n",
       "      <th>0</th>\n",
       "      <td>1006</td>\n",
       "      <td>0.379909</td>\n",
       "    </tr>\n",
       "  </tbody>\n",
       "</table>\n",
       "</div>"
      ],
      "text/plain": [
       "       Jumlah  Persentase\n",
       "index                    \n",
       "1        1642    0.620091\n",
       "0        1006    0.379909"
      ]
     },
     "execution_count": 17,
     "metadata": {},
     "output_type": "execute_result"
    }
   ],
   "source": [
    "jumlah_undefine = data_housing['index'].value_counts()\n",
    "persentase_undefine = data_housing['index'].value_counts() / len(data_housing)\n",
    "\n",
    "df_undefine = pd.DataFrame({'Jumlah': jumlah_undefine, 'Persentase': persentase_undefine})\n",
    "df_undefine.index.name = 'index'\n",
    "\n",
    "df_undefine"
   ]
  },
  {
   "cell_type": "code",
   "execution_count": 18,
   "metadata": {},
   "outputs": [],
   "source": [
    "def get_unique_addresses(df):\n",
    "    # Filter rows with index 0\n",
    "    filtered_df = df[df['index'] == '0']\n",
    "    \n",
    "    # Get unique addresses\n",
    "    unique_addresses = filtered_df['Address'].unique()\n",
    "    \n",
    "    return unique_addresses"
   ]
  },
  {
   "cell_type": "code",
   "execution_count": 19,
   "metadata": {},
   "outputs": [
    {
     "data": {
      "text/plain": [
       "array(['soreang', 'cileunyi kulon', 'soekarno hatta', 'cileunyi',\n",
       "       'banjaran', 'sindanglaya', '', 'bojongsoang', 'cihampelas',\n",
       "       'cangkuang', 'bojongmalaka', 'cimenyan', 'margahayu', 'padalarang',\n",
       "       'kulon', 'sumur', 'mekarjaya', 'lembang', 'rancamanyar',\n",
       "       'katapang', 'margaasih', 'cibiru hilir', 'rancaekek', 'cinunuk',\n",
       "       'cicalengka', 'arjasari', 'jatinangor', 'wetan', 'pameungpeuk',\n",
       "       'pangalengan', 'cikalongwetan', 'dayeuhkolot', 'cibeunying',\n",
       "       'parongpong', 'baleendah', 'pasawahan', 'kidul', 'cilengkrang',\n",
       "       'ngamprah', 'cimaung', 'cimekar', 'rahayu', 'ciparay', 'batujajar',\n",
       "       'cibiru wetan', 'bojongsari', 'cipatat', 'nagreg', 'cingcin',\n",
       "       'cileunyi wetan', 'cisarua', 'solokan jeruk', 'ciwidey',\n",
       "       'rancamulya', 'malakasari'], dtype=object)"
      ]
     },
     "execution_count": 19,
     "metadata": {},
     "output_type": "execute_result"
    }
   ],
   "source": [
    "get_unique_addresses(data_housing)"
   ]
  },
  {
   "cell_type": "code",
   "execution_count": 20,
   "metadata": {},
   "outputs": [
    {
     "data": {
      "text/html": [
       "<div>\n",
       "<style scoped>\n",
       "    .dataframe tbody tr th:only-of-type {\n",
       "        vertical-align: middle;\n",
       "    }\n",
       "\n",
       "    .dataframe tbody tr th {\n",
       "        vertical-align: top;\n",
       "    }\n",
       "\n",
       "    .dataframe thead th {\n",
       "        text-align: right;\n",
       "    }\n",
       "</style>\n",
       "<table border=\"1\" class=\"dataframe\">\n",
       "  <thead>\n",
       "    <tr style=\"text-align: right;\">\n",
       "      <th></th>\n",
       "      <th>Title</th>\n",
       "      <th>Address</th>\n",
       "      <th>Price</th>\n",
       "      <th>KT</th>\n",
       "      <th>LB</th>\n",
       "      <th>LT</th>\n",
       "      <th>index</th>\n",
       "    </tr>\n",
       "  </thead>\n",
       "  <tbody>\n",
       "    <tr>\n",
       "      <th>0</th>\n",
       "      <td>rumah mewah soreang hanya 5 menit ke gerbang tol soreang bandung</td>\n",
       "      <td>soreang</td>\n",
       "      <td>1.374180e+09</td>\n",
       "      <td>3.0</td>\n",
       "      <td>84</td>\n",
       "      <td>71</td>\n",
       "      <td>0</td>\n",
       "    </tr>\n",
       "    <tr>\n",
       "      <th>1</th>\n",
       "      <td>dijual rumah murah bandung timur cileunyi</td>\n",
       "      <td>cileunyi kulon</td>\n",
       "      <td>5.500000e+08</td>\n",
       "      <td>4.0</td>\n",
       "      <td>104</td>\n",
       "      <td>78</td>\n",
       "      <td>0</td>\n",
       "    </tr>\n",
       "    <tr>\n",
       "      <th>8</th>\n",
       "      <td>rumah mewah 2 lantai di lokasi strategis kota bandung</td>\n",
       "      <td>soekarno hatta</td>\n",
       "      <td>2.861388e+09</td>\n",
       "      <td>3.0</td>\n",
       "      <td>161</td>\n",
       "      <td>160</td>\n",
       "      <td>0</td>\n",
       "    </tr>\n",
       "    <tr>\n",
       "      <th>13</th>\n",
       "      <td>perumahan islam karakter islamic green garden rumah syariah bandung</td>\n",
       "      <td>cileunyi</td>\n",
       "      <td>3.905000e+08</td>\n",
       "      <td>2.0</td>\n",
       "      <td>52</td>\n",
       "      <td>66</td>\n",
       "      <td>0</td>\n",
       "    </tr>\n",
       "    <tr>\n",
       "      <th>14</th>\n",
       "      <td>rumah mewah murah di lokasi stategis perumahan modern bandung</td>\n",
       "      <td>banjaran</td>\n",
       "      <td>4.178480e+08</td>\n",
       "      <td>2.0</td>\n",
       "      <td>42</td>\n",
       "      <td>84</td>\n",
       "      <td>0</td>\n",
       "    </tr>\n",
       "    <tr>\n",
       "      <th>...</th>\n",
       "      <td>...</td>\n",
       "      <td>...</td>\n",
       "      <td>...</td>\n",
       "      <td>...</td>\n",
       "      <td>...</td>\n",
       "      <td>...</td>\n",
       "      <td>...</td>\n",
       "    </tr>\n",
       "    <tr>\n",
       "      <th>2654</th>\n",
       "      <td>turun harga rumah minimalis one gate sistem di cipageran cimahi</td>\n",
       "      <td></td>\n",
       "      <td>6.000000e+08</td>\n",
       "      <td>2.0</td>\n",
       "      <td>45</td>\n",
       "      <td>84</td>\n",
       "      <td>0</td>\n",
       "    </tr>\n",
       "    <tr>\n",
       "      <th>2658</th>\n",
       "      <td>rumah diatas langit dkt sabilulungan soreang kopo bandung selatan</td>\n",
       "      <td>soreang</td>\n",
       "      <td>4.280000e+08</td>\n",
       "      <td>3.0</td>\n",
       "      <td>47</td>\n",
       "      <td>60</td>\n",
       "      <td>0</td>\n",
       "    </tr>\n",
       "    <tr>\n",
       "      <th>2659</th>\n",
       "      <td>rumah private pool luas lega di cihanjuang</td>\n",
       "      <td>sumur</td>\n",
       "      <td>5.500000e+09</td>\n",
       "      <td>11.0</td>\n",
       "      <td>590</td>\n",
       "      <td>756</td>\n",
       "      <td>0</td>\n",
       "    </tr>\n",
       "    <tr>\n",
       "      <th>2660</th>\n",
       "      <td>promo 5 unit pertama di bumi luhur parahyangan bandung</td>\n",
       "      <td>padalarang</td>\n",
       "      <td>8.500000e+08</td>\n",
       "      <td>3.0</td>\n",
       "      <td>85</td>\n",
       "      <td>75</td>\n",
       "      <td>0</td>\n",
       "    </tr>\n",
       "    <tr>\n",
       "      <th>2663</th>\n",
       "      <td>rumah cantik 2 lantai siap huni di ciwastra bandung</td>\n",
       "      <td>mekarjaya</td>\n",
       "      <td>1.150000e+09</td>\n",
       "      <td>3.0</td>\n",
       "      <td>180</td>\n",
       "      <td>90</td>\n",
       "      <td>0</td>\n",
       "    </tr>\n",
       "  </tbody>\n",
       "</table>\n",
       "<p>1006 rows × 7 columns</p>\n",
       "</div>"
      ],
      "text/plain": [
       "                                                                    Title  \\\n",
       "0        rumah mewah soreang hanya 5 menit ke gerbang tol soreang bandung   \n",
       "1                               dijual rumah murah bandung timur cileunyi   \n",
       "8                   rumah mewah 2 lantai di lokasi strategis kota bandung   \n",
       "13    perumahan islam karakter islamic green garden rumah syariah bandung   \n",
       "14          rumah mewah murah di lokasi stategis perumahan modern bandung   \n",
       "...                                                                   ...   \n",
       "2654      turun harga rumah minimalis one gate sistem di cipageran cimahi   \n",
       "2658    rumah diatas langit dkt sabilulungan soreang kopo bandung selatan   \n",
       "2659                           rumah private pool luas lega di cihanjuang   \n",
       "2660               promo 5 unit pertama di bumi luhur parahyangan bandung   \n",
       "2663                  rumah cantik 2 lantai siap huni di ciwastra bandung   \n",
       "\n",
       "             Address         Price    KT   LB   LT index  \n",
       "0            soreang  1.374180e+09   3.0   84   71     0  \n",
       "1     cileunyi kulon  5.500000e+08   4.0  104   78     0  \n",
       "8     soekarno hatta  2.861388e+09   3.0  161  160     0  \n",
       "13          cileunyi  3.905000e+08   2.0   52   66     0  \n",
       "14          banjaran  4.178480e+08   2.0   42   84     0  \n",
       "...              ...           ...   ...  ...  ...   ...  \n",
       "2654                  6.000000e+08   2.0   45   84     0  \n",
       "2658         soreang  4.280000e+08   3.0   47   60     0  \n",
       "2659           sumur  5.500000e+09  11.0  590  756     0  \n",
       "2660      padalarang  8.500000e+08   3.0   85   75     0  \n",
       "2663       mekarjaya  1.150000e+09   3.0  180   90     0  \n",
       "\n",
       "[1006 rows x 7 columns]"
      ]
     },
     "execution_count": 20,
     "metadata": {},
     "output_type": "execute_result"
    }
   ],
   "source": [
    "data_housing[data_housing['index']=='0']"
   ]
  },
  {
   "cell_type": "code",
   "execution_count": 21,
   "metadata": {},
   "outputs": [],
   "source": [
    "data_housing=data_housing[data_housing['index']!='0']"
   ]
  },
  {
   "cell_type": "markdown",
   "metadata": {},
   "source": [
    "# Add Feature"
   ]
  },
  {
   "cell_type": "code",
   "execution_count": 22,
   "metadata": {},
   "outputs": [],
   "source": [
    "# Sub-district to district mapping\n",
    "sub_district_to_district = {\n",
    "    'andir': ['andir', 'campaka', 'ciroyom', 'dunguscariang', 'garuda', 'kebonjeruk', 'maleber'],\n",
    "    'astana anyar': ['astana anyar', 'cibadak', 'karanganyar', 'karasak', 'nyengseret', 'panjunan', 'pelindunghewan'],\n",
    "    'antapani': ['antapani', 'antapani kidul', 'antapani kulon', 'antapani tengah', 'antapani wetan'],\n",
    "    'arcamanik': ['arcamanik', 'cisaranten bina harapan', 'cisaranten endah', 'cisaranten kulon', 'sukamiskin'],\n",
    "    'babakan ciparay': ['babakan ciparay', 'babakan', 'babakanciparay', 'cirangrang', 'margahayu utara', 'margasuka', 'sukahaji'],\n",
    "    'bandung kidul': ['bandung kidul', 'batununggal', 'kujangsari', 'mengger', 'wates'],\n",
    "    'bandung kulon': ['bandung kulon', 'caringin', 'cibuntu', 'cigondewah kaler', 'cigondewah kidul', 'cigondewah rahayu', 'cijerah', 'gempolsari', 'warungmuncang'],\n",
    "    'bandung wetan': ['bandung wetan', 'cihapit', 'citarum', 'tamansari'],\n",
    "    'batununggal': ['batununggal', 'binong', 'cibangkong', 'gumuruh', 'kacapiring', 'kebongedang', 'kebonwaru', 'maleer', 'samoja'],\n",
    "    'bojongloa kaler': ['bojongloa kaler', 'babakan asih', 'babakan tarogong', 'jamika', 'kopo', 'suka asih'],\n",
    "    'bojongloa kidul': ['bojongloa kidul', 'cibaduyut', 'cibaduyut kidul', 'cibaduyut wetan', 'kebon lega', 'mekarwangi', 'situsaeur'],\n",
    "    'buahbatu': ['buahbatu', 'cijawura', 'jatisari', 'margasari', 'sekejati'],\n",
    "    'cibeunying kaler': ['cibeunying kaler', 'neglasari', 'sukaluyu', 'cigadung', 'cihaurgeulis'],\n",
    "    'cibeunying kidul': ['cibeunying kidul', 'cicadas', 'cikutra', 'padasuka', 'pasirlayung', 'sukamaju', 'sukapada'],\n",
    "    'cibiru': ['cibiru', 'cipadung', 'cisurupan', 'palasari', 'pasirbiru'],\n",
    "    'cicendo': ['cicendo', 'arjuna', 'husen sastranegara', 'pajajaran', 'pamoyanan', 'pasir kaliki', 'sukaraja'],\n",
    "    'cidadap': ['cidadap', 'ciumbuleuit', 'hegarmanah', 'ledeng'],\n",
    "    'cinambo': ['cinambo', 'babakan penghulu', 'cisaranten wetan', 'pakemitan', 'sukamulya'],\n",
    "    'coblong': ['coblong', 'cipaganti', 'dago', 'lebakgede', 'lebaksiliwangi', 'sadangserang', 'sekeloa'],\n",
    "    'gedebage': ['gedebage', 'cimincrang', 'cisaranten kidul', 'rancabolang', 'rancanumpang'],\n",
    "    'kiaracondong': ['kiaracondong', 'babakansari', 'babakansurabaya', 'cicaheum', 'kebonkangkung', 'kebunjayanti', 'sukapura'],\n",
    "    'lengkong': ['lengkong', 'burangrang', 'cijagra', 'cikawao', 'lingkar selatan', 'malabar', 'paledang', 'turangga'],\n",
    "    'mandalajati': ['mandalajati', 'jatihandap', 'karangpamulang', 'pasir impun', 'sindangjaya'],\n",
    "    'rancasari': ['rancasari', 'cipamokolan', 'darwati', 'manjahlega', 'mekar jaya'],\n",
    "    'panyileukan': ['panyileukan', 'cipadung kidul', 'cipadung kulon', 'cipadung wetan', 'mekarmulya'],\n",
    "    'regol': ['regol', 'ancol', 'balonggede', 'ciateul', 'cigereleng', 'ciseureuh', 'pasirluyu', 'pungkur'],\n",
    "    'sumur bandung': ['sumur bandung', 'babakanciamis', 'braga', 'kebonpisang', 'merdeka'],\n",
    "    'sukajadi': ['sukajadi', 'cipedes', 'pasteur', 'sukabungah', 'sukagalih', 'sukawarna'],\n",
    "    'sukasari': ['sukasari', 'gegerkalong', 'isola', 'sarijadi', 'sukarasa'],\n",
    "    'ujungberung': ['ujungberung', 'cigending', 'pasanggrahan', 'pasirendah', 'pasirjati', 'pasirwangi']\n",
    "}    \n"
   ]
  },
  {
   "cell_type": "code",
   "execution_count": 23,
   "metadata": {},
   "outputs": [],
   "source": [
    "def district_category(district):\n",
    "    for category, districts in sub_district_to_district.items():\n",
    "        if district in districts:\n",
    "            return category\n",
    "    return 'Unknown'\n",
    "\n",
    "data_housing['District'] = data_housing['Address'].map(district_category)"
   ]
  },
  {
   "cell_type": "code",
   "execution_count": 24,
   "metadata": {},
   "outputs": [
    {
     "data": {
      "text/html": [
       "<div>\n",
       "<style scoped>\n",
       "    .dataframe tbody tr th:only-of-type {\n",
       "        vertical-align: middle;\n",
       "    }\n",
       "\n",
       "    .dataframe tbody tr th {\n",
       "        vertical-align: top;\n",
       "    }\n",
       "\n",
       "    .dataframe thead th {\n",
       "        text-align: right;\n",
       "    }\n",
       "</style>\n",
       "<table border=\"1\" class=\"dataframe\">\n",
       "  <thead>\n",
       "    <tr style=\"text-align: right;\">\n",
       "      <th></th>\n",
       "      <th>Title</th>\n",
       "      <th>Address</th>\n",
       "      <th>District</th>\n",
       "      <th>KT</th>\n",
       "      <th>LB</th>\n",
       "      <th>LT</th>\n",
       "      <th>Price</th>\n",
       "      <th>index</th>\n",
       "    </tr>\n",
       "  </thead>\n",
       "  <tbody>\n",
       "    <tr>\n",
       "      <th>2</th>\n",
       "      <td>cluster pramartha asri jatihandap residence kota bandung mahaka land</td>\n",
       "      <td>antapani</td>\n",
       "      <td>antapani</td>\n",
       "      <td>2.0</td>\n",
       "      <td>45</td>\n",
       "      <td>50</td>\n",
       "      <td>4.300000e+08</td>\n",
       "      <td>1</td>\n",
       "    </tr>\n",
       "    <tr>\n",
       "      <th>3</th>\n",
       "      <td>rumah bagus dan asri  geger kalong  - komplek pondok hijau</td>\n",
       "      <td>gegerkalong</td>\n",
       "      <td>sukasari</td>\n",
       "      <td>3.0</td>\n",
       "      <td>250</td>\n",
       "      <td>179</td>\n",
       "      <td>2.600000e+09</td>\n",
       "      <td>1</td>\n",
       "    </tr>\n",
       "    <tr>\n",
       "      <th>5</th>\n",
       "      <td>rumah baru dkt padasuka cikutra surapati pusdai cisaranten sport jabar</td>\n",
       "      <td>cikutra</td>\n",
       "      <td>cibeunying kidul</td>\n",
       "      <td>2.0</td>\n",
       "      <td>33</td>\n",
       "      <td>50</td>\n",
       "      <td>3.500000e+08</td>\n",
       "      <td>1</td>\n",
       "    </tr>\n",
       "    <tr>\n",
       "      <th>6</th>\n",
       "      <td>cluster patragriya at podomoro park bandung</td>\n",
       "      <td>buahbatu</td>\n",
       "      <td>buahbatu</td>\n",
       "      <td>2.0</td>\n",
       "      <td>43</td>\n",
       "      <td>66</td>\n",
       "      <td>9.000000e+08</td>\n",
       "      <td>1</td>\n",
       "    </tr>\n",
       "    <tr>\n",
       "      <th>7</th>\n",
       "      <td>rumah dijual di bandung strategis harga nego</td>\n",
       "      <td>batununggal</td>\n",
       "      <td>bandung kidul</td>\n",
       "      <td>6.0</td>\n",
       "      <td>200</td>\n",
       "      <td>750</td>\n",
       "      <td>1.200000e+10</td>\n",
       "      <td>1</td>\n",
       "    </tr>\n",
       "  </tbody>\n",
       "</table>\n",
       "</div>"
      ],
      "text/plain": [
       "                                                                    Title  \\\n",
       "2    cluster pramartha asri jatihandap residence kota bandung mahaka land   \n",
       "3              rumah bagus dan asri  geger kalong  - komplek pondok hijau   \n",
       "5  rumah baru dkt padasuka cikutra surapati pusdai cisaranten sport jabar   \n",
       "6                             cluster patragriya at podomoro park bandung   \n",
       "7                            rumah dijual di bandung strategis harga nego   \n",
       "\n",
       "       Address          District   KT   LB   LT         Price index  \n",
       "2     antapani          antapani  2.0   45   50  4.300000e+08     1  \n",
       "3  gegerkalong          sukasari  3.0  250  179  2.600000e+09     1  \n",
       "5      cikutra  cibeunying kidul  2.0   33   50  3.500000e+08     1  \n",
       "6     buahbatu          buahbatu  2.0   43   66  9.000000e+08     1  \n",
       "7  batununggal     bandung kidul  6.0  200  750  1.200000e+10     1  "
      ]
     },
     "execution_count": 24,
     "metadata": {},
     "output_type": "execute_result"
    }
   ],
   "source": [
    "new_column_order = ['Title', 'Address', 'District', 'KT','LB', 'LT', 'Price','index']\n",
    "\n",
    "# Rearranging column order reindex\n",
    "data_housing = data_housing.reindex(columns=new_column_order)\n",
    "\n",
    "data_housing.head()"
   ]
  },
  {
   "cell_type": "code",
   "execution_count": 25,
   "metadata": {},
   "outputs": [
    {
     "data": {
      "text/html": [
       "<div>\n",
       "<style scoped>\n",
       "    .dataframe tbody tr th:only-of-type {\n",
       "        vertical-align: middle;\n",
       "    }\n",
       "\n",
       "    .dataframe tbody tr th {\n",
       "        vertical-align: top;\n",
       "    }\n",
       "\n",
       "    .dataframe thead th {\n",
       "        text-align: right;\n",
       "    }\n",
       "</style>\n",
       "<table border=\"1\" class=\"dataframe\">\n",
       "  <thead>\n",
       "    <tr style=\"text-align: right;\">\n",
       "      <th></th>\n",
       "      <th>Title</th>\n",
       "      <th>Address</th>\n",
       "      <th>District</th>\n",
       "      <th>KT</th>\n",
       "      <th>LB</th>\n",
       "      <th>LT</th>\n",
       "      <th>Price</th>\n",
       "      <th>index</th>\n",
       "    </tr>\n",
       "  </thead>\n",
       "  <tbody>\n",
       "  </tbody>\n",
       "</table>\n",
       "</div>"
      ],
      "text/plain": [
       "Empty DataFrame\n",
       "Columns: [Title, Address, District, KT, LB, LT, Price, index]\n",
       "Index: []"
      ]
     },
     "execution_count": 25,
     "metadata": {},
     "output_type": "execute_result"
    }
   ],
   "source": [
    "data_housing[data_housing['District']=='Unknown']"
   ]
  },
  {
   "cell_type": "code",
   "execution_count": 26,
   "metadata": {},
   "outputs": [],
   "source": [
    "data_housing.drop_duplicates(inplace=True)"
   ]
  },
  {
   "cell_type": "code",
   "execution_count": 27,
   "metadata": {},
   "outputs": [
    {
     "data": {
      "text/plain": [
       "(1636, 8)"
      ]
     },
     "metadata": {},
     "output_type": "display_data"
    },
    {
     "data": {
      "text/html": [
       "<div>\n",
       "<style scoped>\n",
       "    .dataframe tbody tr th:only-of-type {\n",
       "        vertical-align: middle;\n",
       "    }\n",
       "\n",
       "    .dataframe tbody tr th {\n",
       "        vertical-align: top;\n",
       "    }\n",
       "\n",
       "    .dataframe thead th {\n",
       "        text-align: right;\n",
       "    }\n",
       "</style>\n",
       "<table border=\"1\" class=\"dataframe\">\n",
       "  <thead>\n",
       "    <tr style=\"text-align: right;\">\n",
       "      <th></th>\n",
       "      <th>Title</th>\n",
       "      <th>Address</th>\n",
       "      <th>District</th>\n",
       "      <th>KT</th>\n",
       "      <th>LB</th>\n",
       "      <th>LT</th>\n",
       "      <th>Price</th>\n",
       "      <th>index</th>\n",
       "    </tr>\n",
       "  </thead>\n",
       "  <tbody>\n",
       "    <tr>\n",
       "      <th>2</th>\n",
       "      <td>cluster pramartha asri jatihandap residence kota bandung mahaka land</td>\n",
       "      <td>antapani</td>\n",
       "      <td>antapani</td>\n",
       "      <td>2.0</td>\n",
       "      <td>45</td>\n",
       "      <td>50</td>\n",
       "      <td>4.300000e+08</td>\n",
       "      <td>1</td>\n",
       "    </tr>\n",
       "    <tr>\n",
       "      <th>3</th>\n",
       "      <td>rumah bagus dan asri  geger kalong  - komplek pondok hijau</td>\n",
       "      <td>gegerkalong</td>\n",
       "      <td>sukasari</td>\n",
       "      <td>3.0</td>\n",
       "      <td>250</td>\n",
       "      <td>179</td>\n",
       "      <td>2.600000e+09</td>\n",
       "      <td>1</td>\n",
       "    </tr>\n",
       "    <tr>\n",
       "      <th>5</th>\n",
       "      <td>rumah baru dkt padasuka cikutra surapati pusdai cisaranten sport jabar</td>\n",
       "      <td>cikutra</td>\n",
       "      <td>cibeunying kidul</td>\n",
       "      <td>2.0</td>\n",
       "      <td>33</td>\n",
       "      <td>50</td>\n",
       "      <td>3.500000e+08</td>\n",
       "      <td>1</td>\n",
       "    </tr>\n",
       "    <tr>\n",
       "      <th>6</th>\n",
       "      <td>cluster patragriya at podomoro park bandung</td>\n",
       "      <td>buahbatu</td>\n",
       "      <td>buahbatu</td>\n",
       "      <td>2.0</td>\n",
       "      <td>43</td>\n",
       "      <td>66</td>\n",
       "      <td>9.000000e+08</td>\n",
       "      <td>1</td>\n",
       "    </tr>\n",
       "    <tr>\n",
       "      <th>7</th>\n",
       "      <td>rumah dijual di bandung strategis harga nego</td>\n",
       "      <td>batununggal</td>\n",
       "      <td>bandung kidul</td>\n",
       "      <td>6.0</td>\n",
       "      <td>200</td>\n",
       "      <td>750</td>\n",
       "      <td>1.200000e+10</td>\n",
       "      <td>1</td>\n",
       "    </tr>\n",
       "  </tbody>\n",
       "</table>\n",
       "</div>"
      ],
      "text/plain": [
       "                                                                    Title  \\\n",
       "2    cluster pramartha asri jatihandap residence kota bandung mahaka land   \n",
       "3              rumah bagus dan asri  geger kalong  - komplek pondok hijau   \n",
       "5  rumah baru dkt padasuka cikutra surapati pusdai cisaranten sport jabar   \n",
       "6                             cluster patragriya at podomoro park bandung   \n",
       "7                            rumah dijual di bandung strategis harga nego   \n",
       "\n",
       "       Address          District   KT   LB   LT         Price index  \n",
       "2     antapani          antapani  2.0   45   50  4.300000e+08     1  \n",
       "3  gegerkalong          sukasari  3.0  250  179  2.600000e+09     1  \n",
       "5      cikutra  cibeunying kidul  2.0   33   50  3.500000e+08     1  \n",
       "6     buahbatu          buahbatu  2.0   43   66  9.000000e+08     1  \n",
       "7  batununggal     bandung kidul  6.0  200  750  1.200000e+10     1  "
      ]
     },
     "metadata": {},
     "output_type": "display_data"
    },
    {
     "name": "stdout",
     "output_type": "stream",
     "text": [
      "Data Information\n",
      "<class 'pandas.core.frame.DataFrame'>\n",
      "Index: 1636 entries, 2 to 2665\n",
      "Data columns (total 8 columns):\n",
      " #   Column    Non-Null Count  Dtype  \n",
      "---  ------    --------------  -----  \n",
      " 0   Title     1636 non-null   object \n",
      " 1   Address   1636 non-null   object \n",
      " 2   District  1636 non-null   object \n",
      " 3   KT        1636 non-null   float64\n",
      " 4   LB        1636 non-null   int64  \n",
      " 5   LT        1636 non-null   int64  \n",
      " 6   Price     1636 non-null   float64\n",
      " 7   index     1636 non-null   object \n",
      "dtypes: float64(2), int64(2), object(4)\n",
      "memory usage: 115.0+ KB\n"
     ]
    },
    {
     "data": {
      "text/plain": [
       "None"
      ]
     },
     "metadata": {},
     "output_type": "display_data"
    },
    {
     "name": "stdout",
     "output_type": "stream",
     "text": [
      "Missing Value\n"
     ]
    },
    {
     "data": {
      "text/plain": [
       "Title       0\n",
       "Address     0\n",
       "District    0\n",
       "KT          0\n",
       "LB          0\n",
       "LT          0\n",
       "Price       0\n",
       "index       0\n",
       "dtype: int64"
      ]
     },
     "metadata": {},
     "output_type": "display_data"
    },
    {
     "data": {
      "text/plain": [
       "'Jumlah duplikasi data: (0, 8)'"
      ]
     },
     "metadata": {},
     "output_type": "display_data"
    },
    {
     "data": {
      "text/plain": [
       "'Persentase sebesar 0.0%'"
      ]
     },
     "metadata": {},
     "output_type": "display_data"
    }
   ],
   "source": [
    "display(data_housing.shape)\n",
    "display(data_housing.head())\n",
    "print ('Data Information')\n",
    "display(data_housing.info())\n",
    "print ('Missing Value')\n",
    "display(data_housing.isna().sum())\n",
    "display(f\"Jumlah duplikasi data: {data_housing[data_housing.duplicated()].shape}\")\n",
    "display(f'Persentase sebesar {(data_housing.duplicated().sum())/len(data_housing)*100}%')"
   ]
  },
  {
   "cell_type": "markdown",
   "metadata": {},
   "source": [
    "# Final Dataset "
   ]
  },
  {
   "cell_type": "code",
   "execution_count": 28,
   "metadata": {
    "editable": true,
    "slideshow": {
     "slide_type": ""
    },
    "tags": []
   },
   "outputs": [],
   "source": [
    "data_housing.to_csv('Clean Data Housing Kota Bandung.csv', index=False)"
   ]
  }
 ],
 "metadata": {
  "kernelspec": {
   "display_name": "Python 3 (ipykernel)",
   "language": "python",
   "name": "python3"
  },
  "language_info": {
   "codemirror_mode": {
    "name": "ipython",
    "version": 3
   },
   "file_extension": ".py",
   "mimetype": "text/x-python",
   "name": "python",
   "nbconvert_exporter": "python",
   "pygments_lexer": "ipython3",
   "version": "3.11.5"
  }
 },
 "nbformat": 4,
 "nbformat_minor": 4
}
